{
 "cells": [
  {
   "cell_type": "code",
   "execution_count": 1,
   "id": "5c109419",
   "metadata": {},
   "outputs": [],
   "source": [
    "#https://www.kaggle.com/datasets/khushikyad001/cigarettes-and-alcohol-addiction?resource=download"
   ]
  },
  {
   "cell_type": "code",
   "execution_count": 3,
   "id": "19834596",
   "metadata": {},
   "outputs": [],
   "source": [
    "\n",
    "#importing libraries\n",
    "import numpy as np\n",
    "import pandas as pd\n",
    "import matplotlib.pyplot as plt\n",
    "import seaborn as sns\n",
    "import plotly.express as px"
   ]
  },
  {
   "cell_type": "code",
   "execution_count": 9,
   "id": "8490375b",
   "metadata": {},
   "outputs": [],
   "source": [
    "#Uploading the dataset\n",
    "df = pd.read_csv(\"addiction_population_data.csv\")"
   ]
  },
  {
   "cell_type": "code",
   "execution_count": 11,
   "id": "9868ae6b",
   "metadata": {},
   "outputs": [
    {
     "data": {
      "text/html": [
       "<div>\n",
       "<style scoped>\n",
       "    .dataframe tbody tr th:only-of-type {\n",
       "        vertical-align: middle;\n",
       "    }\n",
       "\n",
       "    .dataframe tbody tr th {\n",
       "        vertical-align: top;\n",
       "    }\n",
       "\n",
       "    .dataframe thead th {\n",
       "        text-align: right;\n",
       "    }\n",
       "</style>\n",
       "<table border=\"1\" class=\"dataframe\">\n",
       "  <thead>\n",
       "    <tr style=\"text-align: right;\">\n",
       "      <th></th>\n",
       "      <th>id</th>\n",
       "      <th>name</th>\n",
       "      <th>age</th>\n",
       "      <th>gender</th>\n",
       "      <th>country</th>\n",
       "      <th>city</th>\n",
       "      <th>education_level</th>\n",
       "      <th>employment_status</th>\n",
       "      <th>annual_income_usd</th>\n",
       "      <th>marital_status</th>\n",
       "      <th>...</th>\n",
       "      <th>attempts_to_quit_smoking</th>\n",
       "      <th>attempts_to_quit_drinking</th>\n",
       "      <th>has_health_issues</th>\n",
       "      <th>mental_health_status</th>\n",
       "      <th>exercise_frequency</th>\n",
       "      <th>diet_quality</th>\n",
       "      <th>sleep_hours</th>\n",
       "      <th>bmi</th>\n",
       "      <th>social_support</th>\n",
       "      <th>therapy_history</th>\n",
       "    </tr>\n",
       "  </thead>\n",
       "  <tbody>\n",
       "    <tr>\n",
       "      <th>0</th>\n",
       "      <td>1</td>\n",
       "      <td>Michael Bates</td>\n",
       "      <td>66</td>\n",
       "      <td>Other</td>\n",
       "      <td>Yemen</td>\n",
       "      <td>Martinmouth</td>\n",
       "      <td>Secondary</td>\n",
       "      <td>Student</td>\n",
       "      <td>45595</td>\n",
       "      <td>Married</td>\n",
       "      <td>...</td>\n",
       "      <td>6</td>\n",
       "      <td>2</td>\n",
       "      <td>True</td>\n",
       "      <td>Good</td>\n",
       "      <td>Daily</td>\n",
       "      <td>Average</td>\n",
       "      <td>5.6</td>\n",
       "      <td>22.4</td>\n",
       "      <td>NaN</td>\n",
       "      <td>Current</td>\n",
       "    </tr>\n",
       "    <tr>\n",
       "      <th>1</th>\n",
       "      <td>2</td>\n",
       "      <td>Brian Thompson</td>\n",
       "      <td>29</td>\n",
       "      <td>Male</td>\n",
       "      <td>Saudi Arabia</td>\n",
       "      <td>Harperhaven</td>\n",
       "      <td>Primary</td>\n",
       "      <td>Self-Employed</td>\n",
       "      <td>145842</td>\n",
       "      <td>Single</td>\n",
       "      <td>...</td>\n",
       "      <td>1</td>\n",
       "      <td>6</td>\n",
       "      <td>False</td>\n",
       "      <td>Poor</td>\n",
       "      <td>Weekly</td>\n",
       "      <td>Good</td>\n",
       "      <td>6.7</td>\n",
       "      <td>24.1</td>\n",
       "      <td>Moderate</td>\n",
       "      <td>NaN</td>\n",
       "    </tr>\n",
       "    <tr>\n",
       "      <th>2</th>\n",
       "      <td>3</td>\n",
       "      <td>Steven Little</td>\n",
       "      <td>75</td>\n",
       "      <td>Male</td>\n",
       "      <td>Togo</td>\n",
       "      <td>Chanport</td>\n",
       "      <td>Postgraduate</td>\n",
       "      <td>Unemployed</td>\n",
       "      <td>162480</td>\n",
       "      <td>Single</td>\n",
       "      <td>...</td>\n",
       "      <td>9</td>\n",
       "      <td>9</td>\n",
       "      <td>True</td>\n",
       "      <td>Good</td>\n",
       "      <td>Never</td>\n",
       "      <td>Good</td>\n",
       "      <td>6.2</td>\n",
       "      <td>22.2</td>\n",
       "      <td>Weak</td>\n",
       "      <td>NaN</td>\n",
       "    </tr>\n",
       "    <tr>\n",
       "      <th>3</th>\n",
       "      <td>4</td>\n",
       "      <td>Michael Mathews</td>\n",
       "      <td>35</td>\n",
       "      <td>Other</td>\n",
       "      <td>Togo</td>\n",
       "      <td>North Cory</td>\n",
       "      <td>University</td>\n",
       "      <td>Unemployed</td>\n",
       "      <td>16023</td>\n",
       "      <td>In a relationship</td>\n",
       "      <td>...</td>\n",
       "      <td>5</td>\n",
       "      <td>7</td>\n",
       "      <td>False</td>\n",
       "      <td>Average</td>\n",
       "      <td>Daily</td>\n",
       "      <td>Good</td>\n",
       "      <td>7.2</td>\n",
       "      <td>25.5</td>\n",
       "      <td>Moderate</td>\n",
       "      <td>Current</td>\n",
       "    </tr>\n",
       "    <tr>\n",
       "      <th>4</th>\n",
       "      <td>5</td>\n",
       "      <td>Nicholas Sanchez</td>\n",
       "      <td>38</td>\n",
       "      <td>Female</td>\n",
       "      <td>Morocco</td>\n",
       "      <td>Danielberg</td>\n",
       "      <td>College</td>\n",
       "      <td>Self-Employed</td>\n",
       "      <td>62933</td>\n",
       "      <td>In a relationship</td>\n",
       "      <td>...</td>\n",
       "      <td>4</td>\n",
       "      <td>7</td>\n",
       "      <td>True</td>\n",
       "      <td>Poor</td>\n",
       "      <td>Weekly</td>\n",
       "      <td>Good</td>\n",
       "      <td>8.5</td>\n",
       "      <td>31.2</td>\n",
       "      <td>Weak</td>\n",
       "      <td>Past</td>\n",
       "    </tr>\n",
       "    <tr>\n",
       "      <th>5</th>\n",
       "      <td>6</td>\n",
       "      <td>Carrie Sellers</td>\n",
       "      <td>17</td>\n",
       "      <td>Male</td>\n",
       "      <td>Belgium</td>\n",
       "      <td>West Arthur</td>\n",
       "      <td>Secondary</td>\n",
       "      <td>Employed</td>\n",
       "      <td>178640</td>\n",
       "      <td>Single</td>\n",
       "      <td>...</td>\n",
       "      <td>2</td>\n",
       "      <td>3</td>\n",
       "      <td>True</td>\n",
       "      <td>Good</td>\n",
       "      <td>Never</td>\n",
       "      <td>Average</td>\n",
       "      <td>6.4</td>\n",
       "      <td>29.3</td>\n",
       "      <td>Weak</td>\n",
       "      <td>Past</td>\n",
       "    </tr>\n",
       "    <tr>\n",
       "      <th>6</th>\n",
       "      <td>7</td>\n",
       "      <td>Jessica Riley MD</td>\n",
       "      <td>36</td>\n",
       "      <td>Male</td>\n",
       "      <td>Saint Kitts and Nevis</td>\n",
       "      <td>Christopherstad</td>\n",
       "      <td>College</td>\n",
       "      <td>Self-Employed</td>\n",
       "      <td>20491</td>\n",
       "      <td>Widowed</td>\n",
       "      <td>...</td>\n",
       "      <td>4</td>\n",
       "      <td>9</td>\n",
       "      <td>False</td>\n",
       "      <td>Good</td>\n",
       "      <td>Weekly</td>\n",
       "      <td>Good</td>\n",
       "      <td>4.5</td>\n",
       "      <td>32.6</td>\n",
       "      <td>Moderate</td>\n",
       "      <td>Past</td>\n",
       "    </tr>\n",
       "    <tr>\n",
       "      <th>7</th>\n",
       "      <td>8</td>\n",
       "      <td>Walter Tran MD</td>\n",
       "      <td>67</td>\n",
       "      <td>Male</td>\n",
       "      <td>Equatorial Guinea</td>\n",
       "      <td>Silvaberg</td>\n",
       "      <td>College</td>\n",
       "      <td>Unemployed</td>\n",
       "      <td>11275</td>\n",
       "      <td>Single</td>\n",
       "      <td>...</td>\n",
       "      <td>9</td>\n",
       "      <td>1</td>\n",
       "      <td>True</td>\n",
       "      <td>Average</td>\n",
       "      <td>Weekly</td>\n",
       "      <td>Good</td>\n",
       "      <td>3.6</td>\n",
       "      <td>24.6</td>\n",
       "      <td>Weak</td>\n",
       "      <td>NaN</td>\n",
       "    </tr>\n",
       "    <tr>\n",
       "      <th>8</th>\n",
       "      <td>9</td>\n",
       "      <td>Melanie Walker</td>\n",
       "      <td>16</td>\n",
       "      <td>Other</td>\n",
       "      <td>Burkina Faso</td>\n",
       "      <td>Brandystad</td>\n",
       "      <td>Postgraduate</td>\n",
       "      <td>Retired</td>\n",
       "      <td>85495</td>\n",
       "      <td>Divorced</td>\n",
       "      <td>...</td>\n",
       "      <td>6</td>\n",
       "      <td>5</td>\n",
       "      <td>False</td>\n",
       "      <td>Good</td>\n",
       "      <td>Weekly</td>\n",
       "      <td>Good</td>\n",
       "      <td>4.6</td>\n",
       "      <td>24.6</td>\n",
       "      <td>NaN</td>\n",
       "      <td>NaN</td>\n",
       "    </tr>\n",
       "    <tr>\n",
       "      <th>9</th>\n",
       "      <td>10</td>\n",
       "      <td>Carl Mathews</td>\n",
       "      <td>44</td>\n",
       "      <td>Male</td>\n",
       "      <td>Barbados</td>\n",
       "      <td>Roseborough</td>\n",
       "      <td>University</td>\n",
       "      <td>Self-Employed</td>\n",
       "      <td>192822</td>\n",
       "      <td>Single</td>\n",
       "      <td>...</td>\n",
       "      <td>2</td>\n",
       "      <td>2</td>\n",
       "      <td>False</td>\n",
       "      <td>Average</td>\n",
       "      <td>Weekly</td>\n",
       "      <td>Poor</td>\n",
       "      <td>4.5</td>\n",
       "      <td>26.0</td>\n",
       "      <td>Strong</td>\n",
       "      <td>Current</td>\n",
       "    </tr>\n",
       "  </tbody>\n",
       "</table>\n",
       "<p>10 rows × 25 columns</p>\n",
       "</div>"
      ],
      "text/plain": [
       "   id              name  age  gender                country             city  \\\n",
       "0   1     Michael Bates   66   Other                  Yemen      Martinmouth   \n",
       "1   2    Brian Thompson   29    Male           Saudi Arabia      Harperhaven   \n",
       "2   3     Steven Little   75    Male                   Togo         Chanport   \n",
       "3   4   Michael Mathews   35   Other                   Togo       North Cory   \n",
       "4   5  Nicholas Sanchez   38  Female                Morocco       Danielberg   \n",
       "5   6    Carrie Sellers   17    Male                Belgium      West Arthur   \n",
       "6   7  Jessica Riley MD   36    Male  Saint Kitts and Nevis  Christopherstad   \n",
       "7   8    Walter Tran MD   67    Male      Equatorial Guinea        Silvaberg   \n",
       "8   9    Melanie Walker   16   Other           Burkina Faso       Brandystad   \n",
       "9  10      Carl Mathews   44    Male               Barbados      Roseborough   \n",
       "\n",
       "  education_level employment_status  annual_income_usd     marital_status  \\\n",
       "0       Secondary           Student              45595            Married   \n",
       "1         Primary     Self-Employed             145842             Single   \n",
       "2    Postgraduate        Unemployed             162480             Single   \n",
       "3      University        Unemployed              16023  In a relationship   \n",
       "4         College     Self-Employed              62933  In a relationship   \n",
       "5       Secondary          Employed             178640             Single   \n",
       "6         College     Self-Employed              20491            Widowed   \n",
       "7         College        Unemployed              11275             Single   \n",
       "8    Postgraduate           Retired              85495           Divorced   \n",
       "9      University     Self-Employed             192822             Single   \n",
       "\n",
       "   ...  attempts_to_quit_smoking  attempts_to_quit_drinking  \\\n",
       "0  ...                         6                          2   \n",
       "1  ...                         1                          6   \n",
       "2  ...                         9                          9   \n",
       "3  ...                         5                          7   \n",
       "4  ...                         4                          7   \n",
       "5  ...                         2                          3   \n",
       "6  ...                         4                          9   \n",
       "7  ...                         9                          1   \n",
       "8  ...                         6                          5   \n",
       "9  ...                         2                          2   \n",
       "\n",
       "   has_health_issues  mental_health_status  exercise_frequency  diet_quality  \\\n",
       "0               True                  Good               Daily       Average   \n",
       "1              False                  Poor              Weekly          Good   \n",
       "2               True                  Good               Never          Good   \n",
       "3              False               Average               Daily          Good   \n",
       "4               True                  Poor              Weekly          Good   \n",
       "5               True                  Good               Never       Average   \n",
       "6              False                  Good              Weekly          Good   \n",
       "7               True               Average              Weekly          Good   \n",
       "8              False                  Good              Weekly          Good   \n",
       "9              False               Average              Weekly          Poor   \n",
       "\n",
       "   sleep_hours   bmi social_support therapy_history  \n",
       "0          5.6  22.4            NaN         Current  \n",
       "1          6.7  24.1       Moderate             NaN  \n",
       "2          6.2  22.2           Weak             NaN  \n",
       "3          7.2  25.5       Moderate         Current  \n",
       "4          8.5  31.2           Weak            Past  \n",
       "5          6.4  29.3           Weak            Past  \n",
       "6          4.5  32.6       Moderate            Past  \n",
       "7          3.6  24.6           Weak             NaN  \n",
       "8          4.6  24.6            NaN             NaN  \n",
       "9          4.5  26.0         Strong         Current  \n",
       "\n",
       "[10 rows x 25 columns]"
      ]
     },
     "execution_count": 11,
     "metadata": {},
     "output_type": "execute_result"
    }
   ],
   "source": [
    "#checking the first 10 rows of the dataset\n",
    "df.head(10)"
   ]
  },
  {
   "cell_type": "code",
   "execution_count": 12,
   "id": "8295e42e",
   "metadata": {},
   "outputs": [
    {
     "data": {
      "text/plain": [
       "(3000, 25)"
      ]
     },
     "execution_count": 12,
     "metadata": {},
     "output_type": "execute_result"
    }
   ],
   "source": [
    "#Number of rows and columns in the dataset\n",
    "df.shape"
   ]
  },
  {
   "cell_type": "code",
   "execution_count": 13,
   "id": "4632eeb5",
   "metadata": {},
   "outputs": [
    {
     "data": {
      "text/plain": [
       "id                             int64\n",
       "name                          object\n",
       "age                            int64\n",
       "gender                        object\n",
       "country                       object\n",
       "city                          object\n",
       "education_level               object\n",
       "employment_status             object\n",
       "annual_income_usd              int64\n",
       "marital_status                object\n",
       "children_count                 int64\n",
       "smokes_per_day                 int64\n",
       "drinks_per_week                int64\n",
       "age_started_smoking            int64\n",
       "age_started_drinking           int64\n",
       "attempts_to_quit_smoking       int64\n",
       "attempts_to_quit_drinking      int64\n",
       "has_health_issues               bool\n",
       "mental_health_status          object\n",
       "exercise_frequency            object\n",
       "diet_quality                  object\n",
       "sleep_hours                  float64\n",
       "bmi                          float64\n",
       "social_support                object\n",
       "therapy_history               object\n",
       "dtype: object"
      ]
     },
     "execution_count": 13,
     "metadata": {},
     "output_type": "execute_result"
    }
   ],
   "source": [
    "df.dtypes"
   ]
  },
  {
   "cell_type": "code",
   "execution_count": 15,
   "id": "5ca0fd62",
   "metadata": {},
   "outputs": [
    {
     "name": "stdout",
     "output_type": "stream",
     "text": [
      "<class 'pandas.core.frame.DataFrame'>\n",
      "RangeIndex: 3000 entries, 0 to 2999\n",
      "Data columns (total 25 columns):\n",
      " #   Column                     Non-Null Count  Dtype  \n",
      "---  ------                     --------------  -----  \n",
      " 0   id                         3000 non-null   int64  \n",
      " 1   name                       3000 non-null   object \n",
      " 2   age                        3000 non-null   int64  \n",
      " 3   gender                     3000 non-null   object \n",
      " 4   country                    3000 non-null   object \n",
      " 5   city                       3000 non-null   object \n",
      " 6   education_level            2580 non-null   object \n",
      " 7   employment_status          3000 non-null   object \n",
      " 8   annual_income_usd          3000 non-null   int64  \n",
      " 9   marital_status             3000 non-null   object \n",
      " 10  children_count             3000 non-null   int64  \n",
      " 11  smokes_per_day             3000 non-null   int64  \n",
      " 12  drinks_per_week            3000 non-null   int64  \n",
      " 13  age_started_smoking        3000 non-null   int64  \n",
      " 14  age_started_drinking       3000 non-null   int64  \n",
      " 15  attempts_to_quit_smoking   3000 non-null   int64  \n",
      " 16  attempts_to_quit_drinking  3000 non-null   int64  \n",
      " 17  has_health_issues          3000 non-null   bool   \n",
      " 18  mental_health_status       3000 non-null   object \n",
      " 19  exercise_frequency         3000 non-null   object \n",
      " 20  diet_quality               3000 non-null   object \n",
      " 21  sleep_hours                3000 non-null   float64\n",
      " 22  bmi                        3000 non-null   float64\n",
      " 23  social_support             2247 non-null   object \n",
      " 24  therapy_history            1986 non-null   object \n",
      "dtypes: bool(1), float64(2), int64(10), object(12)\n",
      "memory usage: 565.6+ KB\n"
     ]
    }
   ],
   "source": [
    "#Data types and non-null counts\n",
    "df.info()\n"
   ]
  },
  {
   "cell_type": "code",
   "execution_count": 17,
   "id": "118f9f79",
   "metadata": {},
   "outputs": [
    {
     "data": {
      "text/html": [
       "<div>\n",
       "<style scoped>\n",
       "    .dataframe tbody tr th:only-of-type {\n",
       "        vertical-align: middle;\n",
       "    }\n",
       "\n",
       "    .dataframe tbody tr th {\n",
       "        vertical-align: top;\n",
       "    }\n",
       "\n",
       "    .dataframe thead th {\n",
       "        text-align: right;\n",
       "    }\n",
       "</style>\n",
       "<table border=\"1\" class=\"dataframe\">\n",
       "  <thead>\n",
       "    <tr style=\"text-align: right;\">\n",
       "      <th></th>\n",
       "      <th>id</th>\n",
       "      <th>age</th>\n",
       "      <th>annual_income_usd</th>\n",
       "      <th>children_count</th>\n",
       "      <th>smokes_per_day</th>\n",
       "      <th>drinks_per_week</th>\n",
       "      <th>age_started_smoking</th>\n",
       "      <th>age_started_drinking</th>\n",
       "      <th>attempts_to_quit_smoking</th>\n",
       "      <th>attempts_to_quit_drinking</th>\n",
       "      <th>sleep_hours</th>\n",
       "      <th>bmi</th>\n",
       "    </tr>\n",
       "  </thead>\n",
       "  <tbody>\n",
       "    <tr>\n",
       "      <th>count</th>\n",
       "      <td>3000.000000</td>\n",
       "      <td>3000.000000</td>\n",
       "      <td>3000.000000</td>\n",
       "      <td>3000.000000</td>\n",
       "      <td>3000.000000</td>\n",
       "      <td>3000.000000</td>\n",
       "      <td>3000.000000</td>\n",
       "      <td>3000.000000</td>\n",
       "      <td>3000.000000</td>\n",
       "      <td>3000.000000</td>\n",
       "      <td>3000.000000</td>\n",
       "      <td>3000.000000</td>\n",
       "    </tr>\n",
       "    <tr>\n",
       "      <th>mean</th>\n",
       "      <td>1500.500000</td>\n",
       "      <td>46.654333</td>\n",
       "      <td>98904.178000</td>\n",
       "      <td>2.453667</td>\n",
       "      <td>10.034000</td>\n",
       "      <td>5.002333</td>\n",
       "      <td>24.365667</td>\n",
       "      <td>24.525333</td>\n",
       "      <td>4.440333</td>\n",
       "      <td>4.542000</td>\n",
       "      <td>6.470400</td>\n",
       "      <td>25.170133</td>\n",
       "    </tr>\n",
       "    <tr>\n",
       "      <th>std</th>\n",
       "      <td>866.169729</td>\n",
       "      <td>18.740880</td>\n",
       "      <td>57288.035963</td>\n",
       "      <td>1.704354</td>\n",
       "      <td>3.108386</td>\n",
       "      <td>2.214037</td>\n",
       "      <td>8.707309</td>\n",
       "      <td>8.679121</td>\n",
       "      <td>2.835334</td>\n",
       "      <td>2.866992</td>\n",
       "      <td>1.495878</td>\n",
       "      <td>5.013345</td>\n",
       "    </tr>\n",
       "    <tr>\n",
       "      <th>min</th>\n",
       "      <td>1.000000</td>\n",
       "      <td>15.000000</td>\n",
       "      <td>560.000000</td>\n",
       "      <td>0.000000</td>\n",
       "      <td>2.000000</td>\n",
       "      <td>0.000000</td>\n",
       "      <td>10.000000</td>\n",
       "      <td>10.000000</td>\n",
       "      <td>0.000000</td>\n",
       "      <td>0.000000</td>\n",
       "      <td>1.500000</td>\n",
       "      <td>9.100000</td>\n",
       "    </tr>\n",
       "    <tr>\n",
       "      <th>25%</th>\n",
       "      <td>750.750000</td>\n",
       "      <td>31.000000</td>\n",
       "      <td>49336.000000</td>\n",
       "      <td>1.000000</td>\n",
       "      <td>8.000000</td>\n",
       "      <td>3.000000</td>\n",
       "      <td>17.000000</td>\n",
       "      <td>17.000000</td>\n",
       "      <td>2.000000</td>\n",
       "      <td>2.000000</td>\n",
       "      <td>5.475000</td>\n",
       "      <td>21.900000</td>\n",
       "    </tr>\n",
       "    <tr>\n",
       "      <th>50%</th>\n",
       "      <td>1500.500000</td>\n",
       "      <td>47.000000</td>\n",
       "      <td>98616.500000</td>\n",
       "      <td>2.000000</td>\n",
       "      <td>10.000000</td>\n",
       "      <td>5.000000</td>\n",
       "      <td>24.000000</td>\n",
       "      <td>25.000000</td>\n",
       "      <td>4.000000</td>\n",
       "      <td>5.000000</td>\n",
       "      <td>6.500000</td>\n",
       "      <td>25.200000</td>\n",
       "    </tr>\n",
       "    <tr>\n",
       "      <th>75%</th>\n",
       "      <td>2250.250000</td>\n",
       "      <td>63.000000</td>\n",
       "      <td>148622.750000</td>\n",
       "      <td>4.000000</td>\n",
       "      <td>12.000000</td>\n",
       "      <td>6.000000</td>\n",
       "      <td>32.000000</td>\n",
       "      <td>32.000000</td>\n",
       "      <td>7.000000</td>\n",
       "      <td>7.000000</td>\n",
       "      <td>7.500000</td>\n",
       "      <td>28.400000</td>\n",
       "    </tr>\n",
       "    <tr>\n",
       "      <th>max</th>\n",
       "      <td>3000.000000</td>\n",
       "      <td>79.000000</td>\n",
       "      <td>199951.000000</td>\n",
       "      <td>5.000000</td>\n",
       "      <td>21.000000</td>\n",
       "      <td>14.000000</td>\n",
       "      <td>39.000000</td>\n",
       "      <td>39.000000</td>\n",
       "      <td>9.000000</td>\n",
       "      <td>9.000000</td>\n",
       "      <td>12.600000</td>\n",
       "      <td>43.900000</td>\n",
       "    </tr>\n",
       "  </tbody>\n",
       "</table>\n",
       "</div>"
      ],
      "text/plain": [
       "                id          age  annual_income_usd  children_count  \\\n",
       "count  3000.000000  3000.000000        3000.000000     3000.000000   \n",
       "mean   1500.500000    46.654333       98904.178000        2.453667   \n",
       "std     866.169729    18.740880       57288.035963        1.704354   \n",
       "min       1.000000    15.000000         560.000000        0.000000   \n",
       "25%     750.750000    31.000000       49336.000000        1.000000   \n",
       "50%    1500.500000    47.000000       98616.500000        2.000000   \n",
       "75%    2250.250000    63.000000      148622.750000        4.000000   \n",
       "max    3000.000000    79.000000      199951.000000        5.000000   \n",
       "\n",
       "       smokes_per_day  drinks_per_week  age_started_smoking  \\\n",
       "count     3000.000000      3000.000000          3000.000000   \n",
       "mean        10.034000         5.002333            24.365667   \n",
       "std          3.108386         2.214037             8.707309   \n",
       "min          2.000000         0.000000            10.000000   \n",
       "25%          8.000000         3.000000            17.000000   \n",
       "50%         10.000000         5.000000            24.000000   \n",
       "75%         12.000000         6.000000            32.000000   \n",
       "max         21.000000        14.000000            39.000000   \n",
       "\n",
       "       age_started_drinking  attempts_to_quit_smoking  \\\n",
       "count           3000.000000               3000.000000   \n",
       "mean              24.525333                  4.440333   \n",
       "std                8.679121                  2.835334   \n",
       "min               10.000000                  0.000000   \n",
       "25%               17.000000                  2.000000   \n",
       "50%               25.000000                  4.000000   \n",
       "75%               32.000000                  7.000000   \n",
       "max               39.000000                  9.000000   \n",
       "\n",
       "       attempts_to_quit_drinking  sleep_hours          bmi  \n",
       "count                3000.000000  3000.000000  3000.000000  \n",
       "mean                    4.542000     6.470400    25.170133  \n",
       "std                     2.866992     1.495878     5.013345  \n",
       "min                     0.000000     1.500000     9.100000  \n",
       "25%                     2.000000     5.475000    21.900000  \n",
       "50%                     5.000000     6.500000    25.200000  \n",
       "75%                     7.000000     7.500000    28.400000  \n",
       "max                     9.000000    12.600000    43.900000  "
      ]
     },
     "execution_count": 17,
     "metadata": {},
     "output_type": "execute_result"
    }
   ],
   "source": [
    "#Summary statistics of the dataset\n",
    "df.describe()\n"
   ]
  },
  {
   "cell_type": "code",
   "execution_count": 20,
   "id": "f48fdeec",
   "metadata": {},
   "outputs": [
    {
     "data": {
      "text/plain": [
       "id                              0\n",
       "name                            0\n",
       "age                             0\n",
       "gender                          0\n",
       "country                         0\n",
       "city                            0\n",
       "education_level               420\n",
       "employment_status               0\n",
       "annual_income_usd               0\n",
       "marital_status                  0\n",
       "children_count                  0\n",
       "smokes_per_day                  0\n",
       "drinks_per_week                 0\n",
       "age_started_smoking             0\n",
       "age_started_drinking            0\n",
       "attempts_to_quit_smoking        0\n",
       "attempts_to_quit_drinking       0\n",
       "has_health_issues               0\n",
       "mental_health_status            0\n",
       "exercise_frequency              0\n",
       "diet_quality                    0\n",
       "sleep_hours                     0\n",
       "bmi                             0\n",
       "social_support                753\n",
       "therapy_history              1014\n",
       "dtype: int64"
      ]
     },
     "execution_count": 20,
     "metadata": {},
     "output_type": "execute_result"
    }
   ],
   "source": [
    "#cleaning the dataset\n",
    "#checking for missing values\n",
    "df.isnull().sum()"
   ]
  },
  {
   "cell_type": "code",
   "execution_count": 22,
   "id": "f498de2d",
   "metadata": {},
   "outputs": [],
   "source": [
    "#Handling missing values\n",
    "df=df.dropna()"
   ]
  },
  {
   "cell_type": "code",
   "execution_count": 23,
   "id": "5fee1a43",
   "metadata": {},
   "outputs": [
    {
     "data": {
      "text/plain": [
       "np.int64(0)"
      ]
     },
     "execution_count": 23,
     "metadata": {},
     "output_type": "execute_result"
    }
   ],
   "source": [
    "#checking for duplicate values\n",
    "df.duplicated().sum()"
   ]
  },
  {
   "cell_type": "code",
   "execution_count": null,
   "id": "b8d8df66",
   "metadata": {},
   "outputs": [],
   "source": [
    "#identifying invalid records\n",
    "invalid_records = (df['age'] < df['age_started_smoking']) | (df['age'] < df['age_started_drinking'])"
   ]
  },
  {
   "cell_type": "code",
   "execution_count": null,
   "id": "8e357a05",
   "metadata": {},
   "outputs": [
    {
     "name": "stdout",
     "output_type": "stream",
     "text": [
      "Found 296 records with age < starting age for smoking/drinking\n"
     ]
    }
   ],
   "source": [
    "#counting invalid records\n",
    "invalid_count = invalid_records.sum()\n",
    "print(f\"Found {invalid_count} records with age < starting age for smoking/drinking\")"
   ]
  },
  {
   "cell_type": "code",
   "execution_count": null,
   "id": "5bf4b622",
   "metadata": {},
   "outputs": [],
   "source": [
    "#removing invalid records\n",
    "df = df[~invalid_records].copy()"
   ]
  },
  {
   "cell_type": "code",
   "execution_count": 38,
   "id": "cb5bb5ab",
   "metadata": {},
   "outputs": [
    {
     "data": {
      "text/plain": [
       "gender\n",
       "Female    335\n",
       "Other     325\n",
       "Male      313\n",
       "Name: count, dtype: int64"
      ]
     },
     "execution_count": 38,
     "metadata": {},
     "output_type": "execute_result"
    }
   ],
   "source": [
    "# Display the count of each unique value in the 'gender' column\n",
    "(df['gender'].value_counts())"
   ]
  },
  {
   "cell_type": "code",
   "execution_count": 39,
   "id": "ec28981b",
   "metadata": {},
   "outputs": [
    {
     "data": {
      "text/plain": [
       "country\n",
       "Brazil                      11\n",
       "Congo                       11\n",
       "Central African Republic     9\n",
       "Spain                        9\n",
       "Lebanon                      8\n",
       "                            ..\n",
       "Egypt                        1\n",
       "Poland                       1\n",
       "Norfolk Island               1\n",
       "Cape Verde                   1\n",
       "Algeria                      1\n",
       "Name: count, Length: 237, dtype: int64"
      ]
     },
     "execution_count": 39,
     "metadata": {},
     "output_type": "execute_result"
    }
   ],
   "source": [
    "(df['country'].value_counts())"
   ]
  },
  {
   "cell_type": "code",
   "execution_count": 40,
   "id": "186b504d",
   "metadata": {},
   "outputs": [],
   "source": [
    "# Converted the 'age' column in the dataframe to integer type to ensure consistent data type for analysis\n",
    "df['age'] = df['age'].astype(int)"
   ]
  },
  {
   "cell_type": "code",
   "execution_count": 41,
   "id": "89dbe8dc",
   "metadata": {},
   "outputs": [],
   "source": [
    "df['annual_income_usd'] = df['annual_income_usd'].astype(float)"
   ]
  },
  {
   "cell_type": "code",
   "execution_count": 42,
   "id": "47226e91",
   "metadata": {},
   "outputs": [
    {
     "data": {
      "text/plain": [
       "Text(0.5, 1.0, 'Age Distribution')"
      ]
     },
     "execution_count": 42,
     "metadata": {},
     "output_type": "execute_result"
    },
    {
     "data": {
      "image/png": "[encoded data removed]",
      "text/plain": [
       "<Figure size 640x480 with 1 Axes>"
      ]
     },
     "metadata": {},
     "output_type": "display_data"
    }
   ],
   "source": [
    "# Plotting the distribution of the 'age' column with a histogram and KDE curve\n",
    "sns.histplot(df['age'], bins=30, kde=True)\n",
    "plt.title('Age Distribution')"
   ]
  },
  {
   "cell_type": "code",
   "execution_count": null,
   "id": "121f5742",
   "metadata": {},
   "outputs": [
    {
     "data": {
      "text/plain": [
       "Text(0.5, 1.0, 'Gender Distribution')"
      ]
     },
     "execution_count": 46,
     "metadata": {},
     "output_type": "execute_result"
    },
    {
     "data": {
      "image/png": "[encoded data removed]",
      "text/plain": [
       "<Figure size 640x480 with 1 Axes>"
      ]
     },
     "metadata": {},
     "output_type": "display_data"
    }
   ],
   "source": [
    "# Plotting count of each gender\n",
    "sns.countplot(data=df, x='gender')\n",
    "plt.title('Gender Distribution')"
   ]
  },
  {
   "cell_type": "code",
   "execution_count": 47,
   "id": "b65b885a",
   "metadata": {},
   "outputs": [
    {
     "data": {
      "text/plain": [
       "Text(0.5, 1.0, 'Smokes per Day by Gender')"
      ]
     },
     "execution_count": 47,
     "metadata": {},
     "output_type": "execute_result"
    },
    {
     "data": {
      "image/png": "[encoded data removed]",
      "text/plain": [
       "<Figure size 640x480 with 1 Axes>"
      ]
     },
     "metadata": {},
     "output_type": "display_data"
    }
   ],
   "source": [
    "sns.boxplot(x='gender', y='smokes_per_day', data=df)\n",
    "plt.title('Smokes per Day by Gender')"
   ]
  },
  {
   "cell_type": "code",
   "execution_count": null,
   "id": "036cc021",
   "metadata": {},
   "outputs": [],
   "source": []
  }
 ],
 "metadata": {
  "kernelspec": {
   "display_name": "venv",
   "language": "python",
   "name": "python3"
  },
  "language_info": {
   "codemirror_mode": {
    "name": "ipython",
    "version": 3
   },
   "file_extension": ".py",
   "mimetype": "text/x-python",
   "name": "python",
   "nbconvert_exporter": "python",
   "pygments_lexer": "ipython3",
   "version": "3.13.2"
  }
 },
 "nbformat": 4,
 "nbformat_minor": 5
}
